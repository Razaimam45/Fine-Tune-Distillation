{
 "cells": [
  {
   "attachments": {},
   "cell_type": "markdown",
   "metadata": {},
   "source": [
    "##### It is important to have an idea of how to measure a video model’s speed, so that you can choose the model that suits best for your use case. In this tutorial, we provide two simple scripts to help you compute (1) FLOPS, (2) number of parameters, (3) fps and (4) latency. These four numbers will help you evaluate the speed of this model. To be specific, FLOPS means floating point operations per second, and fps means frame per second. In terms of comparison, (1) FLOPS, the lower the better, (2) number of parameters, the lower the better, (3) fps, the higher the better, (4) latency, the lower the better."
   ]
  },
  {
   "cell_type": "code",
   "execution_count": 20,
   "metadata": {},
   "outputs": [
    {
     "name": "stderr",
     "output_type": "stream",
     "text": [
      "\n",
      "image 1/1 /home/raza.imam/Documents/FRC/Dataset/Camel_data_FRC/Camel_1.jpg: 480x800 1 camel, 3 masks, 2 poles, 3 ropes, 36.9ms\n",
      "Speed: 56.9ms preprocess, 36.9ms inference, 1.8ms postprocess per image at shape (1, 3, 800, 800)\n"
     ]
    }
   ],
   "source": [
    "from ultralytics.yolo.engine.model import YOLO\n",
    "model = YOLO(\"/home/raza.imam/Documents/FRC/YOLOv8/runs/detect/train/weights/best.pt\")\n",
    "img = '/home/raza.imam/Documents/FRC/Dataset/Camel_data_FRC/Camel_1.jpg'\n",
    "# Inference\n",
    "results = model(img)"
   ]
  },
  {
   "cell_type": "code",
   "execution_count": 1,
   "metadata": {},
   "outputs": [],
   "source": [
    "import yolo"
   ]
  },
  {
   "cell_type": "code",
   "execution_count": 3,
   "metadata": {},
   "outputs": [
    {
     "ename": "IndexError",
     "evalue": "tuple index out of range",
     "output_type": "error",
     "traceback": [
      "\u001b[0;31m---------------------------------------------------------------------------\u001b[0m",
      "\u001b[0;31mIndexError\u001b[0m                                Traceback (most recent call last)",
      "\u001b[1;32m/home/raza.imam/Documents/FRC/YOLO_v5/yolov5/models/model_params.ipynb Cell 4\u001b[0m in \u001b[0;36m<cell line: 6>\u001b[0;34m()\u001b[0m\n\u001b[1;32m      <a href='vscode-notebook-cell:/home/raza.imam/Documents/FRC/YOLO_v5/yolov5/models/model_params.ipynb#W2sZmlsZQ%3D%3D?line=2'>3</a>\u001b[0m \u001b[39mimport\u001b[39;00m \u001b[39mthop\u001b[39;00m\n\u001b[1;32m      <a href='vscode-notebook-cell:/home/raza.imam/Documents/FRC/YOLO_v5/yolov5/models/model_params.ipynb#W2sZmlsZQ%3D%3D?line=3'>4</a>\u001b[0m \u001b[39mfrom\u001b[39;00m \u001b[39myolo\u001b[39;00m \u001b[39mimport\u001b[39;00m Detect\n\u001b[0;32m----> <a href='vscode-notebook-cell:/home/raza.imam/Documents/FRC/YOLO_v5/yolov5/models/model_params.ipynb#W2sZmlsZQ%3D%3D?line=5'>6</a>\u001b[0m model \u001b[39m=\u001b[39m Detect()\n\u001b[1;32m      <a href='vscode-notebook-cell:/home/raza.imam/Documents/FRC/YOLO_v5/yolov5/models/model_params.ipynb#W2sZmlsZQ%3D%3D?line=7'>8</a>\u001b[0m flops, params \u001b[39m=\u001b[39m thop\u001b[39m.\u001b[39mprofile(model, (\u001b[39m1\u001b[39m, \u001b[39m3\u001b[39m, \u001b[39m416\u001b[39m, \u001b[39m416\u001b[39m))\n\u001b[1;32m      <a href='vscode-notebook-cell:/home/raza.imam/Documents/FRC/YOLO_v5/yolov5/models/model_params.ipynb#W2sZmlsZQ%3D%3D?line=8'>9</a>\u001b[0m latency \u001b[39m=\u001b[39m thop\u001b[39m.\u001b[39mprofile(model, input_size\u001b[39m=\u001b[39m(\u001b[39m1\u001b[39m, \u001b[39m3\u001b[39m, \u001b[39m416\u001b[39m, \u001b[39m416\u001b[39m), verbose\u001b[39m=\u001b[39m\u001b[39mFalse\u001b[39;00m)[\u001b[39m0\u001b[39m] \u001b[39m/\u001b[39m \u001b[39m1000\u001b[39m\n",
      "File \u001b[0;32m~/Documents/FRC/YOLO_v5/yolov5/models/yolo.py:49\u001b[0m, in \u001b[0;36mDetect.__init__\u001b[0;34m(self, nc, anchors, ch, inplace)\u001b[0m\n\u001b[1;32m     47\u001b[0m \u001b[39mself\u001b[39m\u001b[39m.\u001b[39mno \u001b[39m=\u001b[39m nc \u001b[39m+\u001b[39m \u001b[39m5\u001b[39m  \u001b[39m# number of outputs per anchor\u001b[39;00m\n\u001b[1;32m     48\u001b[0m \u001b[39mself\u001b[39m\u001b[39m.\u001b[39mnl \u001b[39m=\u001b[39m \u001b[39mlen\u001b[39m(anchors)  \u001b[39m# number of detection layers\u001b[39;00m\n\u001b[0;32m---> 49\u001b[0m \u001b[39mself\u001b[39m\u001b[39m.\u001b[39mna \u001b[39m=\u001b[39m \u001b[39mlen\u001b[39m(anchors[\u001b[39m0\u001b[39;49m]) \u001b[39m/\u001b[39m\u001b[39m/\u001b[39m \u001b[39m2\u001b[39m  \u001b[39m# number of anchors\u001b[39;00m\n\u001b[1;32m     50\u001b[0m \u001b[39mself\u001b[39m\u001b[39m.\u001b[39mgrid \u001b[39m=\u001b[39m [torch\u001b[39m.\u001b[39mempty(\u001b[39m0\u001b[39m) \u001b[39mfor\u001b[39;00m _ \u001b[39min\u001b[39;00m \u001b[39mrange\u001b[39m(\u001b[39mself\u001b[39m\u001b[39m.\u001b[39mnl)]  \u001b[39m# init grid\u001b[39;00m\n\u001b[1;32m     51\u001b[0m \u001b[39mself\u001b[39m\u001b[39m.\u001b[39manchor_grid \u001b[39m=\u001b[39m [torch\u001b[39m.\u001b[39mempty(\u001b[39m0\u001b[39m) \u001b[39mfor\u001b[39;00m _ \u001b[39min\u001b[39;00m \u001b[39mrange\u001b[39m(\u001b[39mself\u001b[39m\u001b[39m.\u001b[39mnl)]  \u001b[39m# init anchor grid\u001b[39;00m\n",
      "\u001b[0;31mIndexError\u001b[0m: tuple index out of range"
     ]
    }
   ],
   "source": [
    "import torchvision\n",
    "import torch\n",
    "import thop\n",
    "from yolo import Detect\n",
    "\n",
    "model = Detect(nc=4, )\n",
    "\n",
    "flops, params = thop.profile(model, (1, 3, 416, 416))\n",
    "latency = thop.profile(model, input_size=(1, 3, 416, 416), verbose=False)[0] / 1000\n",
    "fps = 1.0 / latency\n",
    "\n",
    "print(\"FLOPS:\", flops)\n",
    "print(\"Parameters:\", params)\n",
    "print(\"Latency:\", latency, \"ms\")\n",
    "print(\"FPS:\", fps)"
   ]
  },
  {
   "cell_type": "code",
   "execution_count": null,
   "metadata": {},
   "outputs": [],
   "source": []
  }
 ],
 "metadata": {
  "kernelspec": {
   "display_name": "Python 3",
   "language": "python",
   "name": "python3"
  },
  "language_info": {
   "codemirror_mode": {
    "name": "ipython",
    "version": 3
   },
   "file_extension": ".py",
   "mimetype": "text/x-python",
   "name": "python",
   "nbconvert_exporter": "python",
   "pygments_lexer": "ipython3",
   "version": "3.8.13"
  },
  "orig_nbformat": 4,
  "vscode": {
   "interpreter": {
    "hash": "a817753b218724dcb375305fbfddbb2a636cdfec48b741162f9042124e885d09"
   }
  }
 },
 "nbformat": 4,
 "nbformat_minor": 2
}
