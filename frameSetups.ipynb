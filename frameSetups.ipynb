{
 "cells": [
  {
   "cell_type": "code",
   "execution_count": 1,
   "metadata": {},
   "outputs": [],
   "source": [
    "import os\n",
    "def rename_files(folder_path, new_name):\n",
    "    # Get the list of all files in the folder\n",
    "    file_list = os.listdir(folder_path)\n",
    "    # Sort the files to ensure consistent numbering\n",
    "    file_list.sort()\n",
    "    # Initialize a counter for the serial number\n",
    "    count = 1\n",
    "    # Iterate through each file\n",
    "    for filename in file_list:\n",
    "        # Construct the new filename with serial number\n",
    "        new_filename = f\"{new_name}_{count}.jpg\"\n",
    "        # Construct the full file paths\n",
    "        old_filepath = os.path.join(folder_path, filename)\n",
    "        new_filepath = os.path.join(folder_path, new_filename)\n",
    "        # Rename the file\n",
    "        os.rename(old_filepath, new_filepath)\n",
    "        # Increment the counter\n",
    "        count += 1\n",
    "\n",
    "# Example usage\n",
    "folder_path = '/home/raza.imam/Documents/FRC/AutoDistillCamel/images'  # Specify the path to your folder\n",
    "new_name = 'Camel'               # Specify the new name for each file\n",
    "rename_files(folder_path, new_name)"
   ]
  },
  {
   "cell_type": "code",
   "execution_count": 2,
   "metadata": {},
   "outputs": [
    {
     "name": "stdout",
     "output_type": "stream",
     "text": [
      "Total number of frames: 5371\n"
     ]
    }
   ],
   "source": [
    "import cv2\n",
    "\n",
    "def count_frames(video_path):\n",
    "    # Open the video file\n",
    "    video = cv2.VideoCapture(video_path)\n",
    "    # Check if the video file was successfully opened\n",
    "    if not video.isOpened():\n",
    "        print(\"Error opening video file\")\n",
    "        return -1\n",
    "    # Get the total number of frames in the video\n",
    "    total_frames = int(video.get(cv2.CAP_PROP_FRAME_COUNT))\n",
    "    # Release the video file\n",
    "    video.release()\n",
    "    return total_frames\n",
    "\n",
    "# Example usage\n",
    "video_path = \"/home/raza.imam/Documents/FRC/Dataset/Fatimah/20230410_20230410120741_20230410121116_120714.mp4\"  # Specify the path to your video file\n",
    "num_frames = count_frames(video_path)\n",
    "print(f\"Total number of frames: {num_frames}\")"
   ]
  },
  {
   "cell_type": "code",
   "execution_count": 6,
   "metadata": {},
   "outputs": [
    {
     "name": "stderr",
     "output_type": "stream",
     "text": [
      "[hevc @ 0x5625e483b8c0] Could not find ref with POC 7\n",
      "[hevc @ 0x5625e2782500] Could not find ref with POC 10\n",
      "[hevc @ 0x5625e4c82c00] Could not find ref with POC 2\n",
      "[hevc @ 0x5625e4eb8cc0] Could not find ref with POC 37\n",
      "[hevc @ 0x5625e4c87280] Could not find ref with POC 16\n",
      "[hevc @ 0x5625e8b4cd40] Could not find ref with POC 0\n",
      "[hevc @ 0x5625e8b45840] Could not find ref with POC 8\n",
      "[hevc @ 0x5625e4924200] Could not find ref with POC 48\n",
      "[hevc @ 0x5625e58ab280] Could not find ref with POC 1\n",
      "[hevc @ 0x5625e3e79700] Non-matching NAL types of the VCL NALUs: 19 1\n",
      "[hevc @ 0x5625e8b51880] Could not find ref with POC 0\n",
      "[hevc @ 0x5625e1a9da80] Could not find ref with POC 37\n",
      "[hevc @ 0x5625e8aecf40] Could not find ref with POC 0\n",
      "[hevc @ 0x5625e1a30a80] Could not find ref with POC 31\n",
      "[hevc @ 0x5625e5abad00] Could not find ref with POC 13\n",
      "[hevc @ 0x5625e1c62500] Could not find ref with POC 18\n",
      "[hevc @ 0x5625e4b6c480] Could not find ref with POC 32\n",
      "[hevc @ 0x5625e4b6c480] Could not find ref with POC 11\n",
      "[hevc @ 0x5625e5abad00] Could not find ref with POC 38\n",
      "[hevc @ 0x5625e8b10e80] Could not find ref with POC 19\n",
      "[hevc @ 0x5625e5abad00] Could not find ref with POC 29\n",
      "[hevc @ 0x5625e1a8bc40] PPS changed between slices.\n",
      "[hevc @ 0x5625e1a9d300] Could not find ref with POC 1\n",
      "[hevc @ 0x5625e490c5c0] The cu_qp_delta -27 is outside the valid range [-26, 25].\n",
      "[hevc @ 0x5625e1a843c0] Could not find ref with POC 9\n"
     ]
    },
    {
     "name": "stdout",
     "output_type": "stream",
     "text": [
      "Frames extracted and saved to /home/raza.imam/Documents/FRC/Dataset/Camel_data_FRC.\n"
     ]
    }
   ],
   "source": [
    "import cv2\n",
    "import os\n",
    "\n",
    "# Directory containing the MP4 videos\n",
    "videos_directory = \"/home/raza.imam/Documents/FRC/Dataset/Fatimah\"\n",
    "\n",
    "# Output folder to save the frames\n",
    "output_folder = \"/home/raza.imam/Documents/FRC/Dataset/Camel_data_FRC\"\n",
    "\n",
    "# Create the output folder if it doesn't exist\n",
    "os.makedirs(output_folder, exist_ok=True)\n",
    "\n",
    "# Iterate over the files in the videos directory\n",
    "for filename in os.listdir(videos_directory):\n",
    "    if filename.endswith(\".mp4\"):\n",
    "        # Construct the full path to the video file\n",
    "        video_path = os.path.join(videos_directory, filename)\n",
    "\n",
    "        # Open the video file\n",
    "        video = cv2.VideoCapture(video_path)\n",
    "\n",
    "        # Initialize variables\n",
    "        frame_count = 0\n",
    "        success = True\n",
    "        interval = 50  # Extract every n-th frame\n",
    "\n",
    "        # Read frames from the video\n",
    "        while success:\n",
    "            # Read the next frame\n",
    "            success, frame = video.read()\n",
    "\n",
    "            if success:\n",
    "                # Check if the frame count is divisible by the interval\n",
    "                if frame_count % interval == 0:\n",
    "                    # Construct the output file path\n",
    "                    output_file = os.path.join(output_folder, f\"{filename}_frame_{frame_count:06d}.jpg\")\n",
    "\n",
    "                    # Save the frame as an image file\n",
    "                    cv2.imwrite(output_file, frame)\n",
    "\n",
    "                # Increment the frame count\n",
    "                frame_count += 1\n",
    "\n",
    "        # Release the video file\n",
    "        video.release()\n",
    "\n",
    "print(f\"Frames extracted and saved to {output_folder}.\")\n"
   ]
  }
 ],
 "metadata": {
  "kernelspec": {
   "display_name": "Python 3",
   "language": "python",
   "name": "python3"
  },
  "language_info": {
   "codemirror_mode": {
    "name": "ipython",
    "version": 3
   },
   "file_extension": ".py",
   "mimetype": "text/x-python",
   "name": "python",
   "nbconvert_exporter": "python",
   "pygments_lexer": "ipython3",
   "version": "3.8.13"
  },
  "orig_nbformat": 4,
  "vscode": {
   "interpreter": {
    "hash": "a817753b218724dcb375305fbfddbb2a636cdfec48b741162f9042124e885d09"
   }
  }
 },
 "nbformat": 4,
 "nbformat_minor": 2
}
