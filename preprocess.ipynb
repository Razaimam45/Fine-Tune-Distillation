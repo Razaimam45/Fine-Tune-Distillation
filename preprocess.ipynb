{
 "cells": [
  {
   "cell_type": "code",
   "execution_count": 5,
   "metadata": {},
   "outputs": [
    {
     "name": "stdout",
     "output_type": "stream",
     "text": [
      "Image width: 640 pixels\n",
      "Image height: 360 pixels\n"
     ]
    }
   ],
   "source": [
    "import cv2\n",
    "\n",
    "# Path to the image file\n",
    "image_path = \"/home/raza.imam/Documents/FRC/Dataset/Camel_data_FRC/Camel_1506.jpg\"\n",
    "\n",
    "# Load the image\n",
    "image = cv2.imread(image_path)\n",
    "\n",
    "# Check the image size\n",
    "height, width, _ = image.shape\n",
    "\n",
    "# Print the image size\n",
    "print(f\"Image width: {width} pixels\")\n",
    "print(f\"Image height: {height} pixels\")"
   ]
  },
  {
   "cell_type": "code",
   "execution_count": 13,
   "metadata": {},
   "outputs": [
    {
     "name": "stdout",
     "output_type": "stream",
     "text": [
      "Image preprocessing complete.\n"
     ]
    }
   ],
   "source": [
    "import cv2\n",
    "import os\n",
    "import numpy as np\n",
    "\n",
    "# Path to the dataset directory\n",
    "dataset_dir = \"/home/raza.imam/Documents/FRC/Dataset/Camel_data_FRC\"\n",
    "\n",
    "# Output directory for preprocessed dataset\n",
    "preprocessed_dir = \"/home/raza.imam/Documents/FRC/Dataset/Camel_data_FRC_Preprocessed_SBN\"\n",
    "\n",
    "# Create the preprocessed directory if it doesn't exist\n",
    "os.makedirs(preprocessed_dir, exist_ok=True)\n",
    "\n",
    "# Desired size for resizing\n",
    "shape = (512, 512)\n",
    "\n",
    "# Preprocessing parameters\n",
    "brightness_factor = 1.2\n",
    "contrast_factor = 1.5\n",
    "mean = (0.5, 0.5, 0.5)\n",
    "std = (0.5, 0.5, 0.5)\n",
    "noise_reduction_kernel_size = (3, 3)\n",
    "\n",
    "# Iterate over the images in the dataset directory\n",
    "for filename in os.listdir(dataset_dir):\n",
    "    if filename.endswith(\".jpg\"):\n",
    "        # Read the image\n",
    "        image_path = os.path.join(dataset_dir, filename)\n",
    "        image = cv2.imread(image_path)\n",
    "        \n",
    "        # Resize the image\n",
    "        resized_image = cv2.resize(image, shape)\n",
    "        \n",
    "        # Adjust brightness and contrast\n",
    "        adjusted_image = cv2.convertScaleAbs(resized_image, alpha=brightness_factor, beta=contrast_factor)\n",
    "        \n",
    "        # Normalize the image\n",
    "        # normalized_image = (resized_image / 255.0 - mean) / std\n",
    "        \n",
    "        # Reduce noise\n",
    "        denoised_image = cv2.GaussianBlur(adjusted_image, noise_reduction_kernel_size, 0)\n",
    "        \n",
    "        # Save the preprocessed image to the output directory\n",
    "        output_path = os.path.join(preprocessed_dir, filename)\n",
    "        cv2.imwrite(output_path, denoised_image)\n",
    "\n",
    "print(\"Image preprocessing complete.\")\n"
   ]
  }
 ],
 "metadata": {
  "kernelspec": {
   "display_name": "Python 3",
   "language": "python",
   "name": "python3"
  },
  "language_info": {
   "codemirror_mode": {
    "name": "ipython",
    "version": 3
   },
   "file_extension": ".py",
   "mimetype": "text/x-python",
   "name": "python",
   "nbconvert_exporter": "python",
   "pygments_lexer": "ipython3",
   "version": "3.8.13 | packaged by conda-forge | (default, Mar 25 2022, 06:04:18) \n[GCC 10.3.0]"
  },
  "orig_nbformat": 4,
  "vscode": {
   "interpreter": {
    "hash": "a817753b218724dcb375305fbfddbb2a636cdfec48b741162f9042124e885d09"
   }
  }
 },
 "nbformat": 4,
 "nbformat_minor": 2
}
